{
 "cells": [
  {
   "cell_type": "code",
   "execution_count": null,
   "metadata": {
    "ExecuteTime": {
     "end_time": "2025-04-19T12:29:56.833270900Z",
     "start_time": "2025-04-19T12:29:54.108750600Z"
    }
   },
   "outputs": [],
   "source": [
    "import datetime\n",
    "import random\n",
    "import time\n",
    "\n",
    "import pandas as pd\n",
    "from tqdm import tqdm\n",
    "\n",
    "import dgl\n",
    "import dgl.nn as dglnn\n",
    "import dgl.function as fn\n",
    "\n",
    "import torch.nn as nn\n",
    "import torch.nn.functional as F\n",
    "import torch\n",
    "\n",
    "import numpy as np\n",
    "import scipy.sparse as sp\n",
    "import sys\n",
    "sys.path.append(\"../../\")\n",
    "from utility.function_set import sigmoid\n",
    "\n",
    "from utility.function_set import get_group_rank\n",
    "from utility.function_set import get_in_AP\n",
    "\n",
    "from utility.function_set import compute_loss\n",
    "from utility.function_set import DGL_auc\n",
    "from utility.function_set import compute_auc\n",
    "from utility.function_set import train_f_new\n",
    "from utility.function_set import compute_auprc\n",
    "\n",
    "from utility.function_set import build_train_pos_g\n",
    "from utility.function_set import build_train_neg_g\n",
    "from utility.function_set import build_test_neg_g\n",
    "from utility.function_set import train_sample\n",
    "\n",
    "from utility.function_set import get_test_result\n",
    "\n",
    "from utility.GAT_SAGELayer import R_GAT\n",
    "from utility.GAT_SAGELayer import LinkModel_s_new"
   ]
  },
  {
   "cell_type": "code",
   "execution_count": null,
   "metadata": {
    "ExecuteTime": {
     "end_time": "2025-04-19T12:29:56.848960300Z",
     "start_time": "2025-04-19T12:29:56.838135700Z"
    }
   },
   "outputs": [],
   "source": [
    "def setup_seed(seed):\n",
    "    torch.manual_seed(seed)\n",
    "    np.random.seed(seed)\n",
    "    random.seed(seed)\n",
    "    torch.backends.deterministic = True\n"
   ]
  },
  {
   "cell_type": "markdown",
   "metadata": {},
   "source": [
    "# 构图"
   ]
  },
  {
   "cell_type": "code",
   "execution_count": null,
   "metadata": {
    "ExecuteTime": {
     "end_time": "2025-04-19T12:29:56.864611800Z",
     "start_time": "2025-04-19T12:29:56.854797700Z"
    }
   },
   "outputs": [],
   "source": [
    "def getFileColumns(fileName):\n",
    "    data = pd.read_csv(fileName)\n",
    "    columns = data.columns\n",
    "    print(columns)\n",
    "    column_one = data[columns[0]].to_list()\n",
    "    column_two = data[columns[1]].to_list()\n",
    "    \n",
    "    return column_one, column_two"
   ]
  },
  {
   "cell_type": "code",
   "execution_count": null,
   "metadata": {
    "ExecuteTime": {
     "end_time": "2025-04-19T12:29:56.880294300Z",
     "start_time": "2025-04-19T12:29:56.864611800Z"
    }
   },
   "outputs": [],
   "source": [
    "edgesTypeDic = {0: [('gene', 'relate1', 'disease')],\n",
    "                1: [('disease', 'relate2', 'gene')],\n",
    "                2: [('gene', 'link', 'gene')]}\n",
    "\n",
    "etype = ('gene', 'relate1', 'disease')\n",
    "etype2 = ('disease', 'relate2', 'gene')"
   ]
  },
  {
   "cell_type": "code",
   "execution_count": null,
   "metadata": {
    "ExecuteTime": {
     "end_time": "2025-04-19T12:29:56.911720Z",
     "start_time": "2025-04-19T12:29:56.896062500Z"
    }
   },
   "outputs": [],
   "source": [
    "def get_graph(etype):\n",
    "    graph_data = {}\n",
    "\n",
    "    column_one, column_two = getFileColumns('./Input/dis_gene_edges_new_num.csv')\n",
    "    graph_data.setdefault(edgesTypeDic[0][0], (column_two, column_one))\n",
    "    graph_data.setdefault(edgesTypeDic[1][0], (column_one, column_two))\n",
    "    \n",
    "    #加入L3候选连边\n",
    "    column_one, column_two = getFileColumns('./Input/gene_gene_all_edges_num.csv')\n",
    "    graph_data.setdefault(edgesTypeDic[2][0], (column_one+column_two, column_one+column_two))\n",
    "\n",
    "    disease_gene = pd.read_csv('./Input/dis_gene_edges_new_num.csv')\n",
    "\n",
    "\n",
    "    hg = dgl.heterograph(graph_data)  \n",
    "\n",
    "    #将所有的疾病-基因节点连边，存入到nodes_with_cat中，后续用于去重\n",
    "    disease_ = disease_gene['disease'].to_list()\n",
    "    gene_ = disease_gene['gene'].to_list()\n",
    "\n",
    "    nodes_with_cat = list(zip(gene_, disease_))\n",
    "\n",
    "    #给边编号\n",
    "    u,v = hg.edges(etype = etype)\n",
    "    eids = np.arange(hg.number_of_edges(etype = etype)) # 边编号\n",
    "\n",
    "    eids_dict = {}\n",
    "\n",
    "    for xx, _id in enumerate(nodes_with_cat):\n",
    "        eids_dict.setdefault(_id, xx)\n",
    "        \n",
    "    return hg, eids_dict, eids"
   ]
  },
  {
   "cell_type": "markdown",
   "metadata": {},
   "source": [
    "# 获取节点特征"
   ]
  },
  {
   "cell_type": "code",
   "execution_count": null,
   "metadata": {
    "ExecuteTime": {
     "end_time": "2025-04-19T12:29:57.407871100Z",
     "start_time": "2025-04-19T12:29:57.402951800Z"
    }
   },
   "outputs": [],
   "source": [
    "def get_features():\n",
    "    #读取基因特征\n",
    "    features = {}\n",
    "    data = pd.read_csv('./Input/gene_feature_256_num.csv')\n",
    "    for aa in range(len(data)):\n",
    "        tmp = list(data.loc[aa])\n",
    "        gene = tmp[0]\n",
    "        value = tmp[1:]\n",
    "        features.setdefault(gene, value)\n",
    "    matrix = [[0]*256 for _ in range(len(data))]\n",
    "    for j in range(len(data)):\n",
    "        value = features[j]\n",
    "        matrix[j] = value\n",
    "    geneFeat = torch.Tensor(matrix)\n",
    "\n",
    "    #疾病特征\n",
    "    features = {}\n",
    "    data = pd.read_csv('./Input/dis_feature_256_num.csv')\n",
    "    for aa in range(len(data)):\n",
    "        tmp = list(data.loc[aa])\n",
    "        dis = tmp[0]\n",
    "        value = tmp[1:]\n",
    "        features.setdefault(dis, value)\n",
    "    matrix = [[0]*256 for _ in range (len(data))]\n",
    "    for j in range(len(data)):\n",
    "        value = features[j]\n",
    "        matrix[j] = value\n",
    "    diseaseFeat = torch.Tensor(matrix)\n",
    "    \n",
    "    return diseaseFeat, geneFeat"
   ]
  },
  {
   "cell_type": "markdown",
   "metadata": {},
   "source": [
    "# 获取初始节点特征128——LVR"
   ]
  },
  {
   "cell_type": "code",
   "execution_count": null,
   "metadata": {
    "ExecuteTime": {
     "end_time": "2025-04-19T12:29:57.881721100Z",
     "start_time": "2025-04-19T12:29:57.857938600Z"
    }
   },
   "outputs": [],
   "source": [
    "def get_features_LVR():\n",
    "    #读取基因特征\n",
    "    features = {}\n",
    "    data = pd.read_csv('./Input/gene_feature_num.csv')\n",
    "    for aa in range(len(data)):\n",
    "        tmp = list(data.loc[aa])\n",
    "        gene = tmp[0]\n",
    "        value = tmp[1:]\n",
    "        features.setdefault(gene, value)\n",
    "    matrix = [[0]*128 for _ in range(len(data))]\n",
    "    for j in range(len(data)):\n",
    "        value = features[j]\n",
    "        matrix[j] = value\n",
    "    geneFeat = torch.Tensor(matrix)\n",
    "\n",
    "    #疾病特征\n",
    "    features = {}\n",
    "    data = pd.read_csv('./Input/dis_feature_num.csv')\n",
    "    for aa in range(len(data)):\n",
    "        tmp = list(data.loc[aa])\n",
    "        dis = tmp[0]\n",
    "        value = tmp[1:]\n",
    "        features.setdefault(dis, value)\n",
    "    matrix = [[0]*128 for _ in range(len(data))]\n",
    "    for j in range(len(data)):\n",
    "        value = features[j]\n",
    "        matrix[j] = value\n",
    "    diseaseFeat = torch.Tensor(matrix)\n",
    "    \n",
    "    return diseaseFeat, geneFeat"
   ]
  },
  {
   "cell_type": "markdown",
   "metadata": {},
   "source": [
    "# 获取负样本文件"
   ]
  },
  {
   "cell_type": "code",
   "execution_count": null,
   "metadata": {
    "ExecuteTime": {
     "end_time": "2025-04-19T12:29:58.418421500Z",
     "start_time": "2025-04-19T12:29:58.393525Z"
    }
   },
   "outputs": [],
   "source": [
    "def get_neg_samples():\n",
    "    data = pd.read_csv('./Input/neg_sample_num.csv')\n",
    "    no_nodes_with_cat = list(zip(data['gene'].tolist(), data['disease'].tolist()))\n",
    "    \n",
    "    return no_nodes_with_cat, data"
   ]
  },
  {
   "cell_type": "code",
   "execution_count": null,
   "metadata": {
    "ExecuteTime": {
     "end_time": "2025-04-19T12:30:30.512792500Z",
     "start_time": "2025-04-19T12:29:58.793996100Z"
    }
   },
   "outputs": [],
   "source": [
    "setup_seed(13)\n",
    "hg, eids_dict, eids = get_graph(etype)\n",
    "g_copy, d_1, d_2 = get_graph(etype)\n",
    "\n",
    "diseaseFeat, geneFeat = get_features()\n",
    "hg.nodes['disease'].data['feature'] = diseaseFeat\n",
    "hg.nodes['gene'].data['feature'] = geneFeat\n",
    "    \n",
    "diseaseFeat1, geneFeat1 = get_features_LVR()\n",
    "g_copy.nodes['disease'].data['feature'] = diseaseFeat1\n",
    "g_copy.nodes['gene'].data['feature'] = geneFeat1\n",
    "    \n",
    "no_nodes_with_cat, data = get_neg_samples()"
   ]
  },
  {
   "cell_type": "code",
   "execution_count": null,
   "metadata": {
    "ExecuteTime": {
     "end_time": "2025-04-19T12:30:30.567144900Z",
     "start_time": "2025-04-19T12:30:30.512792500Z"
    }
   },
   "outputs": [],
   "source": [
    "f = open('./Input/_dict_d.txt', 'r')\n",
    "_dict_d = eval(f.read())\n",
    "f.close()"
   ]
  },
  {
   "cell_type": "code",
   "execution_count": null,
   "metadata": {
    "ExecuteTime": {
     "end_time": "2025-04-19T12:30:30.567144900Z",
     "start_time": "2025-04-19T12:30:30.550041500Z"
    }
   },
   "outputs": [],
   "source": []
  },
  {
   "cell_type": "code",
   "execution_count": null,
   "metadata": {
    "ExecuteTime": {
     "end_time": "2025-04-19T12:30:30.622851200Z",
     "start_time": "2025-04-19T12:30:30.562810300Z"
    }
   },
   "outputs": [],
   "source": [
    "target_diseases = pd.read_csv('../data/target_diseases.csv',header=None)\n",
    "data_dg = pd.read_csv('./Input/dis_gene_edges_new_num.csv')\n",
    "print(data_dg['gene'].min())\n",
    "print(data_dg['gene'].max())\n",
    "print(data_dg['gene'].nunique())"
   ]
  },
  {
   "cell_type": "code",
   "execution_count": null,
   "metadata": {
    "ExecuteTime": {
     "end_time": "2025-04-19T12:30:30.626462500Z",
     "start_time": "2025-04-19T12:30:30.591272200Z"
    }
   },
   "outputs": [],
   "source": [
    "def get_test_edges(disease,dg_train):\n",
    "    \n",
    "    test_tmp = [(x,_dict_d[disease]) for x in range(dg_train['gene'].nunique())]\n",
    "    \n",
    "    train_tmp = dg_train[dg_train['disease'] == _dict_d[each_disease]]\n",
    "\n",
    "    train_tmp_d = train_tmp['disease'].tolist()\n",
    "    train_tmp_g = train_tmp['gene'].tolist()\n",
    "    node_tmp = list(zip(train_tmp_g, train_tmp_d))\n",
    "\n",
    "    test_node = list(set(test_tmp) - set(node_tmp))\n",
    "    \n",
    "    edges_df = pd.DataFrame(test_node )\n",
    "    edges_df.columns = ['gene', 'disease']\n",
    "    \n",
    "    _dis = edges_df['disease'].tolist()\n",
    "    _gene = edges_df['gene'].tolist()\n",
    "    test_no = list(zip(_gene,_dis))\n",
    "    \n",
    "    return test_no"
   ]
  },
  {
   "cell_type": "code",
   "execution_count": null,
   "metadata": {
    "ExecuteTime": {
     "end_time": "2025-04-19T12:30:30.670316400Z",
     "start_time": "2025-04-19T12:30:30.607164Z"
    }
   },
   "outputs": [],
   "source": [
    "test_no_edges = []\n",
    "\n",
    "for each_disease in target_diseases[0]:\n",
    "    test_no_edges = test_no_edges + get_test_edges(each_disease,data_dg)"
   ]
  },
  {
   "cell_type": "code",
   "execution_count": null,
   "metadata": {
    "ExecuteTime": {
     "end_time": "2025-04-19T12:30:30.683229600Z",
     "start_time": "2025-04-19T12:30:30.670316400Z"
    }
   },
   "outputs": [],
   "source": []
  },
  {
   "cell_type": "code",
   "execution_count": null,
   "metadata": {
    "ExecuteTime": {
     "end_time": "2025-04-19T12:30:30.719846100Z",
     "start_time": "2025-04-19T12:30:30.686588600Z"
    }
   },
   "outputs": [],
   "source": [
    "# data1 = data_dg[data_dg['index'] != 'case']\n",
    "data1 = data_dg\n",
    "data1_gene = data1['gene'].to_list()\n",
    "data1_disease = data1['disease'].to_list()\n",
    "train_have_edges = list(zip(data1_gene, data1_disease))"
   ]
  },
  {
   "cell_type": "code",
   "execution_count": null,
   "metadata": {
    "ExecuteTime": {
     "end_time": "2025-04-19T12:30:30.756073300Z",
     "start_time": "2025-04-19T12:30:30.735783100Z"
    }
   },
   "outputs": [],
   "source": [
    "train_index = []\n",
    "for a in train_have_edges:\n",
    "    train_index.append(eids_dict[a])"
   ]
  },
  {
   "cell_type": "code",
   "execution_count": null,
   "metadata": {
    "ExecuteTime": {
     "end_time": "2025-04-19T12:30:30.767633900Z",
     "start_time": "2025-04-19T12:30:30.756073300Z"
    }
   },
   "outputs": [],
   "source": [
    "len(train_index)"
   ]
  },
  {
   "cell_type": "code",
   "execution_count": null,
   "metadata": {},
   "outputs": [],
   "source": []
  },
  {
   "cell_type": "code",
   "execution_count": null,
   "metadata": {
    "ExecuteTime": {
     "end_time": "2025-04-19T12:31:27.258242800Z",
     "start_time": "2025-04-19T12:30:35.735402100Z"
    }
   },
   "outputs": [],
   "source": [
    "train_pos_g, test_pos_g= build_train_pos_g(hg, train_index, [], [], etype, etype2, eids)\n",
    "train_u,train_v = train_pos_g.edges(etype = etype)\n",
    "train_have_edges = list(zip(train_u.tolist(), train_v.tolist()))\n",
    "\n",
    "train_no_edges = random.sample(no_nodes_with_cat,len(train_have_edges)*50)\n",
    "train_neg_g = build_train_neg_g(hg, train_no_edges, train_index, [], etype, etype2, eids)\n",
    "\n",
    "rel_names = ['relate1', 'relate2', 'link']\n",
    "\n",
    "model = LinkModel_s_new(256, 128, 64, 8, rel_names)\n",
    "\n",
    "disease_feats = hg.nodes['disease'].data['feature']\n",
    "gene_feats = hg.nodes['gene'].data['feature']\n",
    "    \n",
    "disease_feats1 = g_copy.nodes['disease'].data['feature']\n",
    "gene_feats1 = g_copy.nodes['gene'].data['feature']\n",
    "\n",
    "node_features = {'gene':gene_feats, 'disease': disease_feats}\n",
    "LVR_f = {'gene':gene_feats1, 'disease': disease_feats1}\n",
    "\n",
    "\n",
    "train_f_new(model, train_pos_g, train_neg_g, node_features, LVR_f, 10, 0.0009, etype)\n",
    "\n",
    "model.eval()\n",
    "with torch.no_grad():\n",
    "    train_features = model.rgat(train_pos_g, node_features)\n",
    "\n",
    "    test_label = []\n",
    "    test_belong = []\n",
    "            \n",
    "    for y in range(len(test_no_edges)):\n",
    "        test_label.append(0)\n",
    "        test_belong.append('neg')\n",
    "        \n",
    "    test_neg_g = build_test_neg_g(hg, test_no_edges, train_index, [], etype, etype2, eids)\n",
    "        \n",
    "    test_pos_score =  model.pred(test_pos_g, train_features, LVR_f, etype)\n",
    "    test_neg_score =  model.pred(test_neg_g, train_features, LVR_f, etype)\n",
    "        \n",
    "    scores = test_pos_score.tolist() + test_neg_score.tolist()\n",
    "    result_df = get_test_result(test_pos_g, test_neg_g, test_pos_score, test_neg_score, test_label, etype)"
   ]
  },
  {
   "cell_type": "code",
   "execution_count": null,
   "metadata": {
    "ExecuteTime": {
     "end_time": "2025-04-19T12:31:46.848545600Z",
     "start_time": "2025-04-19T12:31:46.803463700Z"
    }
   },
   "outputs": [],
   "source": [
    "result_df = result_df.sort_values(by=['disease', 'rank_g'])"
   ]
  },
  {
   "cell_type": "code",
   "execution_count": null,
   "metadata": {
    "ExecuteTime": {
     "end_time": "2025-04-19T12:32:32.440772400Z",
     "start_time": "2025-04-19T12:32:32.382641200Z"
    }
   },
   "outputs": [],
   "source": [
    "f = open('./Input/_dict_gene.txt', 'r')\n",
    "_dict_gene = eval(f.read())\n",
    "f.close()"
   ]
  },
  {
   "cell_type": "code",
   "execution_count": null,
   "metadata": {
    "ExecuteTime": {
     "end_time": "2025-04-19T12:32:39.713112400Z",
     "start_time": "2025-04-19T12:32:39.699418700Z"
    }
   },
   "outputs": [],
   "source": [
    "re_dict_gene = {value: key for key,value in _dict_gene.items()}\n",
    "re_dict_d = {value: key for key,value in _dict_d.items()}"
   ]
  },
  {
   "cell_type": "code",
   "execution_count": null,
   "metadata": {
    "ExecuteTime": {
     "end_time": "2025-04-19T12:32:40.859133300Z",
     "start_time": "2025-04-19T12:32:40.798586600Z"
    }
   },
   "outputs": [],
   "source": [
    "for each_disease in list(target_diseases[0]):\n",
    "    df_tmp = result_df[result_df['disease'] == _dict_d[each_disease]]\n",
    "    \n",
    "    df_tmp['disease'] = df_tmp['disease'].map(re_dict_d)\n",
    "    df_tmp['gene'] = df_tmp['gene'].map(re_dict_gene)\n",
    "    df_tmp[df_tmp['rank_g'] <= 20].to_csv('Output/'+each_disease+'.csv',index=False)"
   ]
  },
  {
   "cell_type": "code",
   "execution_count": null,
   "metadata": {
    "ExecuteTime": {
     "end_time": "2025-04-19T12:34:00.900095300Z",
     "start_time": "2025-04-19T12:34:00.865947500Z"
    }
   },
   "outputs": [],
   "source": [
    "dis_708 = result_df[result_df['disease'] == 705].copy()\n",
    "\n",
    "\n",
    "dis_708['disease'] = dis_708['disease'].map(re_dict_d)\n",
    "dis_708['gene'] = dis_708['gene'].map(re_dict_gene)\n",
    "\n",
    "\n",
    "dis_708[dis_708['rank_g'] <= 20]"
   ]
  },
  {
   "cell_type": "code",
   "execution_count": null,
   "metadata": {},
   "outputs": [],
   "source": []
  },
  {
   "cell_type": "code",
   "execution_count": null,
   "metadata": {},
   "outputs": [],
   "source": []
  },
  {
   "cell_type": "code",
   "execution_count": null,
   "metadata": {},
   "outputs": [],
   "source": []
  },
  {
   "cell_type": "code",
   "execution_count": null,
   "metadata": {},
   "outputs": [],
   "source": []
  },
  {
   "cell_type": "code",
   "execution_count": null,
   "metadata": {},
   "outputs": [],
   "source": []
  }
 ],
 "metadata": {
  "kernelspec": {
   "display_name": "Python 3",
   "language": "python",
   "name": "python3"
  },
  "language_info": {
   "codemirror_mode": {
    "name": "ipython",
    "version": 3
   },
   "file_extension": ".py",
   "mimetype": "text/x-python",
   "name": "python",
   "nbconvert_exporter": "python",
   "pygments_lexer": "ipython3",
   "version": "3.8.8"
  }
 },
 "nbformat": 4,
 "nbformat_minor": 4
}
